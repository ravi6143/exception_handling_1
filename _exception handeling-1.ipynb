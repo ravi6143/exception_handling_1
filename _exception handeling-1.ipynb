{
 "cells": [
  {
   "cell_type": "markdown",
   "id": "b9170f80-05e8-4801-933e-e739ffc08865",
   "metadata": {},
   "source": [
    "Question-1\n",
    "#ans - \n",
    "          "
   ]
  },
  {
   "cell_type": "markdown",
   "id": "0a502373-d94c-46b2-a68e-2aefa8b9a4de",
   "metadata": {},
   "source": [
    "Exception - \n",
    "           exception is an event in python which occurs when the execution of code disrupts the normal flow \n",
    "           of program instructions.\n",
    "           when exception occurs , the program stops its normal execution and jumps to a special block of \n",
    "           code , which is called exception handler.\n",
    "           \n",
    "Difference between Syntax error and Exception -  \n",
    " \n",
    " Syntax Error - syntax error occurs during the interpretion of code , typically before the execution of code\n",
    "                Syntax error occurs when structre of code does not folly the rules of python means; missing \n",
    "                paranthesis {} , misspelled words etc.\n",
    "                \n",
    " Exception -   exception indicates the something exceptional happened with the program while execution takes\n",
    "               place ,  such as condition error etc.\n",
    " \n",
    "            \n",
    "           "
   ]
  },
  {
   "cell_type": "code",
   "execution_count": null,
   "id": "fbdfc536-80de-4077-bef9-2c0381f1192b",
   "metadata": {},
   "outputs": [],
   "source": []
  },
  {
   "cell_type": "code",
   "execution_count": null,
   "id": "ba4668f9-b52d-492b-87fa-fde3a8be9203",
   "metadata": {},
   "outputs": [],
   "source": []
  },
  {
   "cell_type": "markdown",
   "id": "2e1e386c-748d-44ec-8152-5edd27b7d86f",
   "metadata": {},
   "source": [
    "Question - 2\n",
    "#ans"
   ]
  },
  {
   "cell_type": "markdown",
   "id": "3082801c-c618-4b49-b324-eeee43efdefe",
   "metadata": {},
   "source": [
    "If exception not handled , it restricts the execution of all method and functions written in the program \n",
    " ahead of occurance of exception "
   ]
  },
  {
   "cell_type": "code",
   "execution_count": 5,
   "id": "ce22a015-c1ae-46ea-8970-7e65859479f5",
   "metadata": {},
   "outputs": [],
   "source": [
    "import logging\n",
    "logging.basicConfig(filename = \"exception.log\" , level = logging.NOTSET)\n"
   ]
  },
  {
   "cell_type": "code",
   "execution_count": 1,
   "id": "df397822-8e4e-41a0-92f2-a71542ba51e0",
   "metadata": {},
   "outputs": [],
   "source": [
    "a = 10"
   ]
  },
  {
   "cell_type": "code",
   "execution_count": 3,
   "id": "6a4a025a-12c5-4bcd-ae2e-0ef57144e6e6",
   "metadata": {},
   "outputs": [
    {
     "ename": "ZeroDivisionError",
     "evalue": "division by zero",
     "output_type": "error",
     "traceback": [
      "\u001b[0;31m---------------------------------------------------------------------------\u001b[0m",
      "\u001b[0;31mZeroDivisionError\u001b[0m                         Traceback (most recent call last)",
      "Cell \u001b[0;32mIn[3], line 1\u001b[0m\n\u001b[0;32m----> 1\u001b[0m \u001b[43ma\u001b[49m\u001b[38;5;241;43m/\u001b[39;49m\u001b[38;5;241;43m0\u001b[39;49m\n\u001b[1;32m      3\u001b[0m a\n",
      "\u001b[0;31mZeroDivisionError\u001b[0m: division by zero"
     ]
    }
   ],
   "source": [
    "a/0\n",
    "\n",
    "a"
   ]
  },
  {
   "cell_type": "code",
   "execution_count": 6,
   "id": "8bb8fa35-02a1-4a6b-99fd-c8d2fca024ad",
   "metadata": {},
   "outputs": [
    {
     "name": "stdout",
     "output_type": "stream",
     "text": [
      "10 division by zero\n"
     ]
    }
   ],
   "source": [
    "try:\n",
    "    logging.info(\"exception handler is used to handle the exception\")\n",
    "    a/0\n",
    "    \n",
    "except ZeroDivisionError as e:\n",
    "    print(a , e)\n",
    "    "
   ]
  },
  {
   "cell_type": "code",
   "execution_count": null,
   "id": "67f0b7ba-6616-4280-9e78-4c72f84f26fe",
   "metadata": {},
   "outputs": [],
   "source": []
  },
  {
   "cell_type": "code",
   "execution_count": null,
   "id": "12463cb9-a6e1-41d8-af77-7cb3067986e3",
   "metadata": {},
   "outputs": [],
   "source": []
  },
  {
   "cell_type": "markdown",
   "id": "86020e9e-b263-4d2b-a271-8042be5c3158",
   "metadata": {},
   "source": [
    "Question - 3\n",
    "# ans - "
   ]
  },
  {
   "cell_type": "markdown",
   "id": "4768a862-3d32-44b9-a6f0-19ee419586c8",
   "metadata": {},
   "source": [
    "in pyhton , \"try\" , \"except\" , \"else\" , and \"finally \"   statements are used to catch and handle the \n",
    "exceptions"
   ]
  },
  {
   "cell_type": "code",
   "execution_count": 13,
   "id": "49cb2144-cd78-4061-9b42-c586bfe54bbe",
   "metadata": {},
   "outputs": [
    {
     "name": "stdout",
     "output_type": "stream",
     "text": [
      "exception handled successfully [Errno 2] No such file or directory: 'read.txt'\n"
     ]
    }
   ],
   "source": [
    "try :\n",
    "    logging.info(\"try statement is applied\")\n",
    "    with open(\"read.txt\" , \"r\") as f:\n",
    "        \n",
    "        file = f.read()\n",
    "    \n",
    "except Exception as e:\n",
    "    print(  \"exception handled successfully\",e)\n",
    "    \n",
    "else:\n",
    "    logging.info(\"else statement is applied\")\n",
    "    print(\"exception is handled\")\n",
    "    \n",
    "    \n",
    "    "
   ]
  },
  {
   "cell_type": "code",
   "execution_count": null,
   "id": "be88b63f-0aa5-4c1a-9a8b-f0b1e57580c3",
   "metadata": {},
   "outputs": [],
   "source": []
  },
  {
   "cell_type": "code",
   "execution_count": null,
   "id": "66c2fcf4-9fe6-40ed-a02c-de5666d212a7",
   "metadata": {},
   "outputs": [],
   "source": []
  },
  {
   "cell_type": "markdown",
   "id": "a24ac45f-ab96-4ac7-860a-93b4a734646f",
   "metadata": {},
   "source": [
    "Question - 4\n",
    "#ans - "
   ]
  },
  {
   "cell_type": "markdown",
   "id": "6b69cdf1-603a-4d7f-9e75-7ecc933bed13",
   "metadata": {},
   "source": [
    "(a) Try - \"try\" block contains basically a code which may rise exception.\n",
    "          by using try block with exception , exception in program can be\n",
    "          handed easily\n",
    "    Else - \"else\" block allows to define the code that runs only if no exception\n",
    "           occurance in the preceding \"try\" block\n",
    "          \n",
    "    \n",
    "          \n",
    "    "
   ]
  },
  {
   "cell_type": "code",
   "execution_count": 2,
   "id": "8aeb56fe-1279-4106-af9b-9998a32b4256",
   "metadata": {},
   "outputs": [],
   "source": [
    "import logging"
   ]
  },
  {
   "cell_type": "code",
   "execution_count": 19,
   "id": "4546ca69-c4da-48ed-ac5a-3f359d5c764e",
   "metadata": {},
   "outputs": [
    {
     "name": "stdout",
     "output_type": "stream",
     "text": [
      "error occured\n"
     ]
    }
   ],
   "source": [
    "try :\n",
    "    'ravi'+45\n",
    "    logging.info(\"additon operation is subjected to perform between str and int \")\n",
    "    \n",
    "    \n",
    "        \n",
    "    \n",
    "except Exception as e:\n",
    "    print(\"error occured\")\n",
    "    logging.info(\"exception handler is applied\")\n",
    "    \n",
    "else:\n",
    "    print(\"here is your task\")\n",
    "    "
   ]
  },
  {
   "cell_type": "code",
   "execution_count": 21,
   "id": "0561b1a9-ca5c-4691-8673-3d9d3a862647",
   "metadata": {},
   "outputs": [
    {
     "name": "stdout",
     "output_type": "stream",
     "text": [
      "here is your result\n"
     ]
    }
   ],
   "source": [
    "try :\n",
    "    30+45\n",
    "    logging.info(\"additon operation is subjected to perform between int and int \")\n",
    "    \n",
    "    \n",
    "        \n",
    "    \n",
    "except Exception as e:\n",
    "    print(\"error occured\")\n",
    "    logging.info(\"exception handler is applied\")\n",
    "    \n",
    "else:\n",
    "    print(\"here is your result\")\n",
    "    "
   ]
  },
  {
   "cell_type": "code",
   "execution_count": null,
   "id": "da7bf900-723d-4f4f-ab01-b6e88c81e097",
   "metadata": {},
   "outputs": [],
   "source": []
  },
  {
   "cell_type": "markdown",
   "id": "147e6666-e5da-410d-85a3-c5ec0f76180b",
   "metadata": {},
   "source": [
    "(B) - Finally - \n",
    "               finally statement in python is used to define a code which always subjected to execute\n",
    "               whether exception occurs or not ."
   ]
  },
  {
   "cell_type": "code",
   "execution_count": 26,
   "id": "3d0f7eee-be2c-4b1d-8e2a-c87af7aa0e3d",
   "metadata": {},
   "outputs": [
    {
     "name": "stdout",
     "output_type": "stream",
     "text": [
      "error occured [Errno 2] No such file or directory: 'f.txt1'\n",
      "this is my execution of finally statement\n"
     ]
    }
   ],
   "source": [
    "try:\n",
    "    logging.info(\"non existing file is subjected to open in read mode\")\n",
    "\n",
    "    with open(\"f.txt1\" , 'r') as f:\n",
    "        f = read()\n",
    "        \n",
    "    \n",
    "    \n",
    "except FileNotFoundError as e:\n",
    "    print(\"error occured\", e)\n",
    "    \n",
    "finally:\n",
    "    print(\"this is my execution of finally statement\")\n",
    "    logging.info(\"finally statement is executed \")"
   ]
  },
  {
   "cell_type": "code",
   "execution_count": null,
   "id": "4b64fc13-ee2b-44bc-807f-f5a8c26f8cd3",
   "metadata": {},
   "outputs": [],
   "source": []
  },
  {
   "cell_type": "markdown",
   "id": "c265de29-69a3-463d-aad3-a7c46b1b8901",
   "metadata": {},
   "source": [
    "(C) - Raise -\n",
    "             raise statement is used to indicate exceptional conditions in your code\n",
    "             it allows you to throw exceptions in the complexicity of code while creating custom\n",
    "             exception class\n",
    "             \n",
    "             "
   ]
  },
  {
   "cell_type": "code",
   "execution_count": 31,
   "id": "bb4e35bb-1a31-4b8c-a924-901667bb5fd8",
   "metadata": {},
   "outputs": [],
   "source": [
    "class license(Exception):\n",
    "    \n",
    "    logging.info(\"custom exception class is created\")\n",
    "    def __init__(self , msg):\n",
    "            logging.info(\"method is defined which takes msg as argument\")\n",
    "            self.msg = msg"
   ]
  },
  {
   "cell_type": "code",
   "execution_count": 32,
   "id": "53fb078c-392b-4be2-9650-0bd5f85d2988",
   "metadata": {},
   "outputs": [],
   "source": [
    "def eligibility(age):\n",
    "    \n",
    "    if age <= 0:\n",
    "        logging.info(\"raise statement is applied\")\n",
    "        raise license(\"age cant be zero or negative\")\n",
    "        \n",
    "        \n",
    "    \n",
    "    elif age <18:\n",
    "        logging.info(\"raise statement is applied\")   \n",
    "        raise license(\"not mature enough to drive\")\n",
    "            \n",
    "        \n",
    "    elif 18<=age<70:\n",
    "            logging.info(\"rasie statememt is applied\")    \n",
    "            raise license(\"eligible to drive\")\n",
    "        \n",
    "    else:\n",
    "        logging.info(\"else statement is applied\")\n",
    "        print(\"too aged to drive\")"
   ]
  },
  {
   "cell_type": "code",
   "execution_count": 33,
   "id": "c19e7749-a332-415b-b653-ce40524f8a6a",
   "metadata": {},
   "outputs": [
    {
     "name": "stdin",
     "output_type": "stream",
     "text": [
      "enter your age 56\n"
     ]
    },
    {
     "name": "stdout",
     "output_type": "stream",
     "text": [
      "eligible to drive\n"
     ]
    }
   ],
   "source": [
    "try:\n",
    "    logging.info(\"age is given as input\")\n",
    "    age=int(input('enter your age'))\n",
    "    eligibility(age)\n",
    "except license as e:\n",
    "    print(e)"
   ]
  },
  {
   "cell_type": "code",
   "execution_count": null,
   "id": "4bcd5f01-ec9e-444a-ade4-da1651ee2e5d",
   "metadata": {},
   "outputs": [],
   "source": []
  },
  {
   "cell_type": "code",
   "execution_count": null,
   "id": "2389570d-d45a-4a1a-8cb1-6d8859448cab",
   "metadata": {},
   "outputs": [],
   "source": []
  },
  {
   "cell_type": "markdown",
   "id": "78eea537-0d3c-42d4-9122-c232838632d4",
   "metadata": {},
   "source": [
    "Question - 5\n",
    "ans - "
   ]
  },
  {
   "cell_type": "markdown",
   "id": "c99d7f5b-5450-4e23-a432-49850f98a785",
   "metadata": {},
   "source": [
    "custom exception classes are user defined exception types which inherit from the built-in \n",
    "'Exception' class or its subclass.\n",
    "it allows you to define your own specific exception types that are unique to your domain.\n",
    "\n",
    "\n",
    "Need of custom exception - \n",
    "1.- it allows to define the specific types of exception that are unique to a domain.\n",
    "2.- it gives the clarity in readibility of a code by defining the exception types.\n",
    "3.- it helps to separate the error handeling logics from main business logics.\n",
    "4.- it allows to carry detailed error message and relevent data that can aid in debugging or troubleshooting that issue.\n",
    "5.- it can create a hiearchy of exception subclasses that allow to  handle the exception at different level of abstraction."
   ]
  },
  {
   "cell_type": "code",
   "execution_count": 12,
   "id": "d5fbaf53-e385-40a6-a136-c550aa8e05d4",
   "metadata": {},
   "outputs": [],
   "source": [
    "import logging"
   ]
  },
  {
   "cell_type": "code",
   "execution_count": 13,
   "id": "a6b0b81d-e8f2-49a1-8eb0-fc863831a3d4",
   "metadata": {},
   "outputs": [],
   "source": [
    "logging.basicConfig(filename = \"exception.log\" , level = logging.NOTSET)"
   ]
  },
  {
   "cell_type": "code",
   "execution_count": 14,
   "id": "e84d3d0f-9096-429c-90f0-d122c1164122",
   "metadata": {},
   "outputs": [],
   "source": [
    "class message(Exception):\n",
    "    logging.info(\"inuilt exception class is defined and a method for input is also defined\")\n",
    "    def __init__(self ,balance ):\n",
    "        self.balance = balance"
   ]
  },
  {
   "cell_type": "code",
   "execution_count": 15,
   "id": "41da9e34-107d-4b1c-bc14-34fe2651fc2c",
   "metadata": {},
   "outputs": [],
   "source": [
    "def otp(depsoit):\n",
    "    logging.info(\"otp method is defined for exception handeling\")\n",
    "    if deposit > 5000:\n",
    "        raise message(\" money deposited \")\n",
    "        \n",
    "    else:\n",
    "        print(\"try next time\")\n",
    "    "
   ]
  },
  {
   "cell_type": "code",
   "execution_count": 17,
   "id": "39f6a580-6b62-477a-9703-192086458f02",
   "metadata": {},
   "outputs": [
    {
     "name": "stdin",
     "output_type": "stream",
     "text": [
      "depost your money 7000\n"
     ]
    },
    {
     "name": "stdout",
     "output_type": "stream",
     "text": [
      " money deposited \n"
     ]
    }
   ],
   "source": [
    "try:\n",
    "    logging.info(\"depost input is given\")\n",
    "    deposit = int(input(\"depost your money\"))\n",
    "    otp(deposit)\n",
    "   \n",
    "except message as e:\n",
    "    logging.info(\"except statement is called\")\n",
    "    print(e)\n",
    "    "
   ]
  },
  {
   "cell_type": "markdown",
   "id": "95cca388-d18d-416f-b61b-16ecbe7dfbab",
   "metadata": {},
   "source": []
  },
  {
   "cell_type": "code",
   "execution_count": null,
   "id": "9a4353ec-fea8-4658-acf7-17cddb7af5d0",
   "metadata": {},
   "outputs": [],
   "source": []
  },
  {
   "cell_type": "markdown",
   "id": "37fba278-46e3-4766-8f23-96a83decdca0",
   "metadata": {},
   "source": [
    "Question - 6\n",
    "ans - "
   ]
  },
  {
   "cell_type": "code",
   "execution_count": 1,
   "id": "6c683881-329e-464b-8a5a-e8f5bfe11c33",
   "metadata": {},
   "outputs": [],
   "source": [
    "import logging"
   ]
  },
  {
   "cell_type": "code",
   "execution_count": 2,
   "id": "3b89d9d9-138d-4bbc-a599-cf42f8ff18f7",
   "metadata": {},
   "outputs": [],
   "source": [
    "logging.basicConfig(filename = \"exception.log\" , level = logging.NOTSET)"
   ]
  },
  {
   "cell_type": "code",
   "execution_count": 6,
   "id": "fddb7a4f-6972-48c1-9998-56207cde78b9",
   "metadata": {},
   "outputs": [],
   "source": [
    "logging.info(\"exception class is created\")\n",
    "\n",
    "class mail(Exception):\n",
    "    def __init__(self , name ):\n",
    "        self.name = name\n",
    "        "
   ]
  },
  {
   "cell_type": "code",
   "execution_count": 15,
   "id": "995900a9-5f05-40f4-b5d1-54accf72200e",
   "metadata": {},
   "outputs": [],
   "source": [
    "def details(name):\n",
    "    if name != \"ravisharma\":\n",
    "        raise mail(\"you are not the same user \")\n",
    "        \n",
    "    else :\n",
    "        print(\"wwlcome to the inbox\")\n",
    "    "
   ]
  },
  {
   "cell_type": "code",
   "execution_count": 17,
   "id": "4532d863-1195-4ddf-9aa8-207adca6f14d",
   "metadata": {},
   "outputs": [
    {
     "name": "stdin",
     "output_type": "stream",
     "text": [
      " ravisharma\n"
     ]
    },
    {
     "name": "stdout",
     "output_type": "stream",
     "text": [
      "wwlcome to the inbox\n"
     ]
    }
   ],
   "source": [
    "try:\n",
    "    name = input()\n",
    "    details(name)\n",
    "    \n",
    "except mail as e:\n",
    "    print(e)\n",
    "    \n",
    "    "
   ]
  },
  {
   "cell_type": "code",
   "execution_count": null,
   "id": "20224e49-59a4-44f9-8119-8493c9ffad51",
   "metadata": {},
   "outputs": [],
   "source": []
  }
 ],
 "metadata": {
  "kernelspec": {
   "display_name": "Python 3 (ipykernel)",
   "language": "python",
   "name": "python3"
  },
  "language_info": {
   "codemirror_mode": {
    "name": "ipython",
    "version": 3
   },
   "file_extension": ".py",
   "mimetype": "text/x-python",
   "name": "python",
   "nbconvert_exporter": "python",
   "pygments_lexer": "ipython3",
   "version": "3.10.8"
  }
 },
 "nbformat": 4,
 "nbformat_minor": 5
}
